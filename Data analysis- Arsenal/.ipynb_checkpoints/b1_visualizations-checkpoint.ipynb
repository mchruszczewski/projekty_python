{
 "cells": [
  {
   "cell_type": "code",
   "execution_count": 2,
   "id": "e8201664-f327-4d5f-9bae-b2a36930f6ba",
   "metadata": {},
   "outputs": [],
   "source": [
    "import pandas as pd\n",
    "import numpy as np\n",
    "import datetime as d\n",
    "import seaborn as sns\n",
    "from bs4 import BeautifulSoup\n",
    "import requests\n",
    "import re \n",
    "from a1_scrapping_data import *\n",
    "from a2_extra_useful_columns_functions import *\n",
    "from a3_data_analysis_masters import *"
   ]
  },
  {
   "cell_type": "code",
   "execution_count": null,
   "id": "287e3c7a-7979-445e-aa67-adf2fecd0252",
   "metadata": {},
   "outputs": [],
   "source": [
    "sns.barplot(x='Season', y= 'xG/90', data=general_table_masters)"
   ]
  },
  {
   "cell_type": "code",
   "execution_count": null,
   "id": "eb6ce889-07f6-4d01-842b-a4f7f69dfaf4",
   "metadata": {},
   "outputs": [],
   "source": [
    "team_tables?"
   ]
  },
  {
   "cell_type": "code",
   "execution_count": 5,
   "id": "c5acf1c4-c926-4fd7-b8aa-9c87652b27db",
   "metadata": {},
   "outputs": [],
   "source": [
    "team= 'Manchester City'\n",
    "table= 'def_actions'\n",
    "season='2017-2018'"
   ]
  },
  {
   "cell_type": "code",
   "execution_count": 6,
   "id": "63ac4109-3344-4b1a-8a1e-fa8092a6c1fe",
   "metadata": {},
   "outputs": [
    {
     "data": {
      "text/html": [
       "<div>\n",
       "<style scoped>\n",
       "    .dataframe tbody tr th:only-of-type {\n",
       "        vertical-align: middle;\n",
       "    }\n",
       "\n",
       "    .dataframe tbody tr th {\n",
       "        vertical-align: top;\n",
       "    }\n",
       "\n",
       "    .dataframe thead tr th {\n",
       "        text-align: left;\n",
       "    }\n",
       "</style>\n",
       "<table border=\"1\" class=\"dataframe\">\n",
       "  <thead>\n",
       "    <tr>\n",
       "      <th></th>\n",
       "      <th colspan=\"3\" halign=\"left\">General Info</th>\n",
       "      <th colspan=\"5\" halign=\"left\">Tackles</th>\n",
       "      <th colspan=\"4\" halign=\"left\">Challenges</th>\n",
       "      <th colspan=\"3\" halign=\"left\">Blocks</th>\n",
       "      <th colspan=\"2\" halign=\"left\">Intercept</th>\n",
       "      <th>Clearances</th>\n",
       "      <th>Errors</th>\n",
       "    </tr>\n",
       "    <tr>\n",
       "      <th></th>\n",
       "      <th>Squad</th>\n",
       "      <th># Pl</th>\n",
       "      <th>90s</th>\n",
       "      <th>Tkl</th>\n",
       "      <th>TklW</th>\n",
       "      <th>Def 3rd</th>\n",
       "      <th>Mid 3rd</th>\n",
       "      <th>Att 3rd</th>\n",
       "      <th>Tkl</th>\n",
       "      <th>Att</th>\n",
       "      <th>Tkl%</th>\n",
       "      <th>Lost</th>\n",
       "      <th>Blocks</th>\n",
       "      <th>Sh</th>\n",
       "      <th>Pass</th>\n",
       "      <th>Int</th>\n",
       "      <th>Tkl+Int</th>\n",
       "      <th>Clr</th>\n",
       "      <th>Err</th>\n",
       "    </tr>\n",
       "  </thead>\n",
       "  <tbody>\n",
       "    <tr>\n",
       "      <th>10</th>\n",
       "      <td>Manchester City</td>\n",
       "      <td>25</td>\n",
       "      <td>38.0</td>\n",
       "      <td>563</td>\n",
       "      <td>381</td>\n",
       "      <td>257</td>\n",
       "      <td>215</td>\n",
       "      <td>91</td>\n",
       "      <td>195</td>\n",
       "      <td>561</td>\n",
       "      <td>34.8</td>\n",
       "      <td>366</td>\n",
       "      <td>328</td>\n",
       "      <td>53</td>\n",
       "      <td>275</td>\n",
       "      <td>346</td>\n",
       "      <td>909</td>\n",
       "      <td>620</td>\n",
       "      <td>19</td>\n",
       "    </tr>\n",
       "  </tbody>\n",
       "</table>\n",
       "</div>"
      ],
      "text/plain": [
       "       General Info            Tackles                               \\\n",
       "              Squad # Pl   90s     Tkl TklW Def 3rd Mid 3rd Att 3rd   \n",
       "10  Manchester City   25  38.0     563  381     257     215      91   \n",
       "\n",
       "   Challenges                 Blocks          Intercept         Clearances  \\\n",
       "          Tkl  Att  Tkl% Lost Blocks  Sh Pass       Int Tkl+Int        Clr   \n",
       "10        195  561  34.8  366    328  53  275       346     909        620   \n",
       "\n",
       "   Errors  \n",
       "      Err  \n",
       "10     19  "
      ]
     },
     "execution_count": 6,
     "metadata": {},
     "output_type": "execute_result"
    }
   ],
   "source": [
    "team_tables(team, table, season)"
   ]
  },
  {
   "cell_type": "code",
   "execution_count": null,
   "id": "bb495816-4867-422f-9527-a123d66f33ff",
   "metadata": {},
   "outputs": [],
   "source": [
    "seasons_dict.keys()"
   ]
  },
  {
   "cell_type": "code",
   "execution_count": null,
   "id": "a1b1bb19-5789-4b65-875a-80962f87028a",
   "metadata": {},
   "outputs": [],
   "source": [
    "df= stats_search(team='Manchester Utd', season='2022-2023')"
   ]
  },
  {
   "cell_type": "code",
   "execution_count": null,
   "id": "1702f804-72ac-422e-befb-3b57e06eee83",
   "metadata": {},
   "outputs": [],
   "source": [
    "df"
   ]
  },
  {
   "cell_type": "code",
   "execution_count": null,
   "id": "c80a9aaa-15ea-4c1b-a89d-17dbfce509e3",
   "metadata": {},
   "outputs": [],
   "source": [
    "player_stats_search(player_name= 'Ronaldo', df=df)"
   ]
  },
  {
   "cell_type": "code",
   "execution_count": null,
   "id": "090c274a-993b-4595-86f9-90bfc9c65b1e",
   "metadata": {},
   "outputs": [],
   "source": []
  }
 ],
 "metadata": {
  "kernelspec": {
   "display_name": "Python 3 (ipykernel)",
   "language": "python",
   "name": "python3"
  },
  "language_info": {
   "codemirror_mode": {
    "name": "ipython",
    "version": 3
   },
   "file_extension": ".py",
   "mimetype": "text/x-python",
   "name": "python",
   "nbconvert_exporter": "python",
   "pygments_lexer": "ipython3",
   "version": "3.9.13"
  }
 },
 "nbformat": 4,
 "nbformat_minor": 5
}
