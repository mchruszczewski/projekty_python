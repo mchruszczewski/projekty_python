{
 "cells": [
  {
   "cell_type": "code",
   "execution_count": 2,
   "id": "37681aea-e0e3-48dc-9495-d22c6e1332f8",
   "metadata": {},
   "outputs": [
    {
     "name": "stdout",
     "output_type": "stream",
     "text": [
      "Collecting quarto\n",
      "  Downloading quarto-0.1.0-py3-none-any.whl (10 kB)\n",
      "Requirement already satisfied: jupyter-core in /Users/michalchruszczewski/opt/anaconda3/lib/python3.9/site-packages (from quarto) (4.11.1)\n",
      "Requirement already satisfied: ipykernel in /Users/michalchruszczewski/opt/anaconda3/lib/python3.9/site-packages (from quarto) (6.15.2)\n",
      "Requirement already satisfied: nbformat in /Users/michalchruszczewski/opt/anaconda3/lib/python3.9/site-packages (from quarto) (5.5.0)\n",
      "Requirement already satisfied: nbclient in /Users/michalchruszczewski/opt/anaconda3/lib/python3.9/site-packages (from quarto) (0.5.13)\n",
      "Requirement already satisfied: pyyaml in /Users/michalchruszczewski/opt/anaconda3/lib/python3.9/site-packages (from quarto) (6.0)\n",
      "Requirement already satisfied: psutil in /Users/michalchruszczewski/opt/anaconda3/lib/python3.9/site-packages (from ipykernel->quarto) (5.9.0)\n",
      "Requirement already satisfied: jupyter-client>=6.1.12 in /Users/michalchruszczewski/opt/anaconda3/lib/python3.9/site-packages (from ipykernel->quarto) (7.3.4)\n",
      "Requirement already satisfied: traitlets>=5.1.0 in /Users/michalchruszczewski/opt/anaconda3/lib/python3.9/site-packages (from ipykernel->quarto) (5.1.1)\n",
      "Requirement already satisfied: packaging in /Users/michalchruszczewski/opt/anaconda3/lib/python3.9/site-packages (from ipykernel->quarto) (21.3)\n",
      "Requirement already satisfied: appnope in /Users/michalchruszczewski/opt/anaconda3/lib/python3.9/site-packages (from ipykernel->quarto) (0.1.2)\n",
      "Requirement already satisfied: matplotlib-inline>=0.1 in /Users/michalchruszczewski/opt/anaconda3/lib/python3.9/site-packages (from ipykernel->quarto) (0.1.6)\n",
      "Requirement already satisfied: ipython>=7.23.1 in /Users/michalchruszczewski/opt/anaconda3/lib/python3.9/site-packages (from ipykernel->quarto) (7.31.1)\n",
      "Requirement already satisfied: tornado>=6.1 in /Users/michalchruszczewski/opt/anaconda3/lib/python3.9/site-packages (from ipykernel->quarto) (6.1)\n",
      "Requirement already satisfied: pyzmq>=17 in /Users/michalchruszczewski/opt/anaconda3/lib/python3.9/site-packages (from ipykernel->quarto) (23.2.0)\n",
      "Requirement already satisfied: nest-asyncio in /Users/michalchruszczewski/opt/anaconda3/lib/python3.9/site-packages (from ipykernel->quarto) (1.5.5)\n",
      "Requirement already satisfied: debugpy>=1.0 in /Users/michalchruszczewski/opt/anaconda3/lib/python3.9/site-packages (from ipykernel->quarto) (1.5.1)\n",
      "Requirement already satisfied: jsonschema>=2.6 in /Users/michalchruszczewski/opt/anaconda3/lib/python3.9/site-packages (from nbformat->quarto) (4.16.0)\n",
      "Requirement already satisfied: fastjsonschema in /Users/michalchruszczewski/opt/anaconda3/lib/python3.9/site-packages (from nbformat->quarto) (2.16.2)\n",
      "Requirement already satisfied: pexpect>4.3 in /Users/michalchruszczewski/opt/anaconda3/lib/python3.9/site-packages (from ipython>=7.23.1->ipykernel->quarto) (4.8.0)\n",
      "Requirement already satisfied: setuptools>=18.5 in /Users/michalchruszczewski/opt/anaconda3/lib/python3.9/site-packages (from ipython>=7.23.1->ipykernel->quarto) (63.4.1)\n",
      "Requirement already satisfied: pickleshare in /Users/michalchruszczewski/opt/anaconda3/lib/python3.9/site-packages (from ipython>=7.23.1->ipykernel->quarto) (0.7.5)\n",
      "Requirement already satisfied: jedi>=0.16 in /Users/michalchruszczewski/opt/anaconda3/lib/python3.9/site-packages (from ipython>=7.23.1->ipykernel->quarto) (0.18.1)\n",
      "Requirement already satisfied: prompt-toolkit!=3.0.0,!=3.0.1,<3.1.0,>=2.0.0 in /Users/michalchruszczewski/opt/anaconda3/lib/python3.9/site-packages (from ipython>=7.23.1->ipykernel->quarto) (3.0.20)\n",
      "Requirement already satisfied: decorator in /Users/michalchruszczewski/opt/anaconda3/lib/python3.9/site-packages (from ipython>=7.23.1->ipykernel->quarto) (5.1.1)\n",
      "Requirement already satisfied: backcall in /Users/michalchruszczewski/opt/anaconda3/lib/python3.9/site-packages (from ipython>=7.23.1->ipykernel->quarto) (0.2.0)\n",
      "Requirement already satisfied: pygments in /Users/michalchruszczewski/opt/anaconda3/lib/python3.9/site-packages (from ipython>=7.23.1->ipykernel->quarto) (2.11.2)\n",
      "Requirement already satisfied: pyrsistent!=0.17.0,!=0.17.1,!=0.17.2,>=0.14.0 in /Users/michalchruszczewski/opt/anaconda3/lib/python3.9/site-packages (from jsonschema>=2.6->nbformat->quarto) (0.18.0)\n",
      "Requirement already satisfied: attrs>=17.4.0 in /Users/michalchruszczewski/opt/anaconda3/lib/python3.9/site-packages (from jsonschema>=2.6->nbformat->quarto) (21.4.0)\n",
      "Requirement already satisfied: entrypoints in /Users/michalchruszczewski/opt/anaconda3/lib/python3.9/site-packages (from jupyter-client>=6.1.12->ipykernel->quarto) (0.4)\n",
      "Requirement already satisfied: python-dateutil>=2.8.2 in /Users/michalchruszczewski/opt/anaconda3/lib/python3.9/site-packages (from jupyter-client>=6.1.12->ipykernel->quarto) (2.8.2)\n",
      "Requirement already satisfied: pyparsing!=3.0.5,>=2.0.2 in /Users/michalchruszczewski/opt/anaconda3/lib/python3.9/site-packages (from packaging->ipykernel->quarto) (3.0.9)\n",
      "Requirement already satisfied: parso<0.9.0,>=0.8.0 in /Users/michalchruszczewski/opt/anaconda3/lib/python3.9/site-packages (from jedi>=0.16->ipython>=7.23.1->ipykernel->quarto) (0.8.3)\n",
      "Requirement already satisfied: ptyprocess>=0.5 in /Users/michalchruszczewski/opt/anaconda3/lib/python3.9/site-packages (from pexpect>4.3->ipython>=7.23.1->ipykernel->quarto) (0.7.0)\n",
      "Requirement already satisfied: wcwidth in /Users/michalchruszczewski/opt/anaconda3/lib/python3.9/site-packages (from prompt-toolkit!=3.0.0,!=3.0.1,<3.1.0,>=2.0.0->ipython>=7.23.1->ipykernel->quarto) (0.2.5)\n",
      "Requirement already satisfied: six>=1.5 in /Users/michalchruszczewski/opt/anaconda3/lib/python3.9/site-packages (from python-dateutil>=2.8.2->jupyter-client>=6.1.12->ipykernel->quarto) (1.16.0)\n",
      "Installing collected packages: quarto\n",
      "Successfully installed quarto-0.1.0\n"
     ]
    }
   ],
   "source": [
    "!pip install quarto"
   ]
  },
  {
   "cell_type": "code",
   "execution_count": 3,
   "id": "00d196c6-6151-484e-a823-a9d82cdaecf7",
   "metadata": {},
   "outputs": [
    {
     "ename": "SyntaxError",
     "evalue": "invalid syntax (3419639851.py, line 1)",
     "output_type": "error",
     "traceback": [
      "\u001b[0;36m  File \u001b[0;32m\"/var/folders/lg/dqrfsgd11p1bnm82y9g576380000gn/T/ipykernel_2233/3419639851.py\"\u001b[0;36m, line \u001b[0;32m1\u001b[0m\n\u001b[0;31m    quarto render b3_quarto_analysis.ipynb --to html\u001b[0m\n\u001b[0m           ^\u001b[0m\n\u001b[0;31mSyntaxError\u001b[0m\u001b[0;31m:\u001b[0m invalid syntax\n"
     ]
    }
   ],
   "source": [
    "quarto render b3_quarto_analysis.ipynb --to html\n"
   ]
  },
  {
   "cell_type": "code",
   "execution_count": 4,
   "id": "d2d70887-143c-40f4-85d7-c9545bba92fe",
   "metadata": {},
   "outputs": [
    {
     "name": "stdout",
     "output_type": "stream",
     "text": [
      "Collecting package metadata (current_repodata.json): done\n",
      "Solving environment: / \n",
      "The environment is inconsistent, please check the package plan carefully\n",
      "The following packages are causing the inconsistency:\n",
      "\n",
      "  - defaults/osx-64::holoviews==1.15.0=py39hecd8cb5_0\n",
      "  - defaults/osx-64::datashader==0.14.1=py39hecd8cb5_0\n",
      "  - defaults/osx-64::anaconda==2022.10=py39_0\n",
      "  - defaults/osx-64::hvplot==0.8.0=py39hecd8cb5_0\n",
      "  - defaults/osx-64::bkcharts==0.2=py39hecd8cb5_1\n",
      "  - defaults/osx-64::statsmodels==0.13.2=py39hca72f7f_0\n",
      "  - defaults/osx-64::dask==2022.7.0=py39hecd8cb5_0\n",
      "  - defaults/noarch::intake==0.6.5=pyhd3eb1b0_0\n",
      "  - defaults/noarch::seaborn==0.11.2=pyhd3eb1b0_0\n",
      "  - defaults/noarch::xarray==0.20.1=pyhd3eb1b0_1\n",
      "failed with initial frozen solve. Retrying with flexible solve.\n",
      "Solving environment: failed with repodata from current_repodata.json, will retry with next repodata source.\n",
      "Collecting package metadata (repodata.json): done\n",
      "Solving environment: | ^C\n",
      "failed with initial frozen solve. Retrying with flexible solve.\n",
      "\n",
      "CondaError: KeyboardInterrupt\n",
      "\n",
      "\n",
      "Note: you may need to restart the kernel to use updated packages.\n"
     ]
    }
   ],
   "source": [
    "conda install -c conda-forge r-quarto\n"
   ]
  },
  {
   "cell_type": "code",
   "execution_count": 5,
   "id": "79f9d669-9fe1-45b5-8d56-d0ca12a8fd08",
   "metadata": {},
   "outputs": [
    {
     "ename": "SyntaxError",
     "evalue": "invalid syntax (968318569.py, line 1)",
     "output_type": "error",
     "traceback": [
      "\u001b[0;36m  File \u001b[0;32m\"/var/folders/lg/dqrfsgd11p1bnm82y9g576380000gn/T/ipykernel_2233/968318569.py\"\u001b[0;36m, line \u001b[0;32m1\u001b[0m\n\u001b[0;31m    conda config --add channels conda-forge\u001b[0m\n\u001b[0m          ^\u001b[0m\n\u001b[0;31mSyntaxError\u001b[0m\u001b[0;31m:\u001b[0m invalid syntax\n"
     ]
    }
   ],
   "source": [
    "conda config --add channels conda-forge\n",
    "conda config --set channel_priority strict"
   ]
  },
  {
   "cell_type": "code",
   "execution_count": 6,
   "id": "e57a1e09-f1e5-454a-a176-cbf7c96e2384",
   "metadata": {},
   "outputs": [
    {
     "name": "stdout",
     "output_type": "stream",
     "text": [
      "hello!\n"
     ]
    }
   ],
   "source": [
    "print('hello!')"
   ]
  },
  {
   "cell_type": "code",
   "execution_count": null,
   "id": "ca64a832-93c9-4ec7-b826-4b7b019ab174",
   "metadata": {},
   "outputs": [],
   "source": []
  }
 ],
 "metadata": {
  "kernelspec": {
   "display_name": "Python 3 (ipykernel)",
   "language": "python",
   "name": "python3"
  },
  "language_info": {
   "codemirror_mode": {
    "name": "ipython",
    "version": 3
   },
   "file_extension": ".py",
   "mimetype": "text/x-python",
   "name": "python",
   "nbconvert_exporter": "python",
   "pygments_lexer": "ipython3",
   "version": "3.9.13"
  }
 },
 "nbformat": 4,
 "nbformat_minor": 5
}
