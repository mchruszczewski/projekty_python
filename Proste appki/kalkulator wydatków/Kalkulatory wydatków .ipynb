{
 "cells": [
  {
   "cell_type": "code",
   "execution_count": null,
   "id": "db8b1b70-24cd-47ea-85b8-62517700f225",
   "metadata": {},
   "outputs": [],
   "source": [
    "#As a User I want to have possibility to look at my combine files from both ING and PKO."
   ]
  }
 ],
 "metadata": {
  "kernelspec": {
   "display_name": "Python 3 (ipykernel)",
   "language": "python",
   "name": "python3"
  },
  "language_info": {
   "codemirror_mode": {
    "name": "ipython",
    "version": 3
   },
   "file_extension": ".py",
   "mimetype": "text/x-python",
   "name": "python",
   "nbconvert_exporter": "python",
   "pygments_lexer": "ipython3",
   "version": "3.9.13"
  }
 },
 "nbformat": 4,
 "nbformat_minor": 5
}
